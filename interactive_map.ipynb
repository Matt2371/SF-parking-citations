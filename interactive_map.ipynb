{
 "cells": [
  {
   "cell_type": "code",
   "execution_count": 1,
   "metadata": {},
   "outputs": [],
   "source": [
    "import folium\n",
    "import pandas as pd\n",
    "import numpy as np\n",
    "import re\n"
   ]
  },
  {
   "attachments": {},
   "cell_type": "markdown",
   "metadata": {},
   "source": [
    "# Interactive map of individual parking citations\n",
    "We draw a map of individaul 2019 parking citations in San Francisco based on the time of day."
   ]
  },
  {
   "attachments": {},
   "cell_type": "markdown",
   "metadata": {},
   "source": [
    "### Process data\n",
    "We subset a random sample of the data, and process it to include longitude and latitude coordinates as seperate columns using regular expressions. "
   ]
  },
  {
   "cell_type": "code",
   "execution_count": 2,
   "metadata": {},
   "outputs": [],
   "source": [
    "# Import 2019 data with geometries\n",
    "df = pd.read_csv('csv/parking_citations_w_geom_2019.csv')\n",
    "# Take random sample to map\n",
    "df = df.sample(frac=0.001, random_state=0)\n"
   ]
  },
  {
   "cell_type": "code",
   "execution_count": 3,
   "metadata": {},
   "outputs": [
    {
     "data": {
      "text/plain": [
       "(1069, 10)"
      ]
     },
     "execution_count": 3,
     "metadata": {},
     "output_type": "execute_result"
    }
   ],
   "source": [
    "# Dataframe dimensions\n",
    "length = df.shape[0]\n",
    "width = df.shape[1]\n",
    "df.shape"
   ]
  },
  {
   "cell_type": "code",
   "execution_count": 4,
   "metadata": {},
   "outputs": [],
   "source": [
    "# Get latitude and longitude coordinates in seperate columns using regex\n",
    "for i in range(length):\n",
    "    coordinates = re.findall('[-0-9.]+', df.loc[df.index[i], 'geom'])\n",
    "    df.loc[df.index[i], 'lat'] = coordinates[1]\n",
    "    df.loc[df.index[i], 'lon'] = coordinates[0]"
   ]
  },
  {
   "cell_type": "code",
   "execution_count": 5,
   "metadata": {},
   "outputs": [],
   "source": [
    "# Drop geom column\n",
    "df = df.drop(columns=['geom'])"
   ]
  },
  {
   "cell_type": "code",
   "execution_count": 6,
   "metadata": {},
   "outputs": [],
   "source": [
    "# Convert to pandas datetime\n",
    "df.loc[:, 'Citation_Issued_DateTime'] = pd.to_datetime(df['Citation_Issued_DateTime'])"
   ]
  },
  {
   "cell_type": "code",
   "execution_count": 7,
   "metadata": {},
   "outputs": [
    {
     "data": {
      "text/plain": [
       "Citation_Number              0\n",
       "Citation_Issued_DateTime     0\n",
       "Violation                    0\n",
       "Violation_Description        0\n",
       "Citation_Location            1\n",
       "Vehicle_Plate_State         44\n",
       "Vehicle_Plate               46\n",
       "Fine_Amount                  0\n",
       "Date_Added                   0\n",
       "lat                          0\n",
       "lon                          0\n",
       "dtype: int64"
      ]
     },
     "execution_count": 7,
     "metadata": {},
     "output_type": "execute_result"
    }
   ],
   "source": [
    "# Check for NA's: there are no NA's for desired columns\n",
    "df.isnull().sum(axis = 0)"
   ]
  },
  {
   "cell_type": "code",
   "execution_count": 8,
   "metadata": {},
   "outputs": [
    {
     "data": {
      "text/html": [
       "<div>\n",
       "<style scoped>\n",
       "    .dataframe tbody tr th:only-of-type {\n",
       "        vertical-align: middle;\n",
       "    }\n",
       "\n",
       "    .dataframe tbody tr th {\n",
       "        vertical-align: top;\n",
       "    }\n",
       "\n",
       "    .dataframe thead th {\n",
       "        text-align: right;\n",
       "    }\n",
       "</style>\n",
       "<table border=\"1\" class=\"dataframe\">\n",
       "  <thead>\n",
       "    <tr style=\"text-align: right;\">\n",
       "      <th></th>\n",
       "      <th>Citation_Number</th>\n",
       "      <th>Citation_Issued_DateTime</th>\n",
       "      <th>Violation</th>\n",
       "      <th>Violation_Description</th>\n",
       "      <th>Citation_Location</th>\n",
       "      <th>Vehicle_Plate_State</th>\n",
       "      <th>Vehicle_Plate</th>\n",
       "      <th>Fine_Amount</th>\n",
       "      <th>Date_Added</th>\n",
       "      <th>lat</th>\n",
       "      <th>lon</th>\n",
       "    </tr>\n",
       "  </thead>\n",
       "  <tbody>\n",
       "    <tr>\n",
       "      <th>1019861</th>\n",
       "      <td>PD34613596</td>\n",
       "      <td>2019-08-13 14:05:00</td>\n",
       "      <td>V5202</td>\n",
       "      <td>NOPL/PRDSP</td>\n",
       "      <td>IRONWOOD AT CATALINA</td>\n",
       "      <td>CA</td>\n",
       "      <td>4XNF490</td>\n",
       "      <td>121.0</td>\n",
       "      <td>2020-04-30T00:00:00</td>\n",
       "      <td>37.73629004500003</td>\n",
       "      <td>-122.38011988899996</td>\n",
       "    </tr>\n",
       "    <tr>\n",
       "      <th>899663</th>\n",
       "      <td>925928813</td>\n",
       "      <td>2019-12-04 10:23:00</td>\n",
       "      <td>TRC7.2.70</td>\n",
       "      <td>OBSTRCT TF</td>\n",
       "      <td>233 SERRANO DR</td>\n",
       "      <td>CA</td>\n",
       "      <td>8BDZ371</td>\n",
       "      <td>110.0</td>\n",
       "      <td>2020-07-27T00:00:00</td>\n",
       "      <td>37.71971298700004</td>\n",
       "      <td>-122.47937603999998</td>\n",
       "    </tr>\n",
       "    <tr>\n",
       "      <th>973061</th>\n",
       "      <td>909704062</td>\n",
       "      <td>2019-05-01 14:47:00</td>\n",
       "      <td>TRC7.2.23B</td>\n",
       "      <td>MTR OUT DT</td>\n",
       "      <td>317 09TH ST</td>\n",
       "      <td>CA</td>\n",
       "      <td>7MQS630</td>\n",
       "      <td>76.0</td>\n",
       "      <td>2020-04-30T00:00:00</td>\n",
       "      <td>38.24842055800008</td>\n",
       "      <td>-122.036426329</td>\n",
       "    </tr>\n",
       "    <tr>\n",
       "      <th>208804</th>\n",
       "      <td>1005658183</td>\n",
       "      <td>2019-03-07 13:56:00</td>\n",
       "      <td>TRC7.2.38</td>\n",
       "      <td>PK STANDS</td>\n",
       "      <td>331 TOWNSEND</td>\n",
       "      <td>CA</td>\n",
       "      <td>7NDE878</td>\n",
       "      <td>110.0</td>\n",
       "      <td>2022-04-11T00:00:00</td>\n",
       "      <td>37.776536270000065</td>\n",
       "      <td>-122.39560939499995</td>\n",
       "    </tr>\n",
       "    <tr>\n",
       "      <th>688599</th>\n",
       "      <td>911650331</td>\n",
       "      <td>2019-07-09 12:18:00</td>\n",
       "      <td>TRC7.2.22</td>\n",
       "      <td>STR CLEAN</td>\n",
       "      <td>962 PAGE ST</td>\n",
       "      <td>CA</td>\n",
       "      <td>22T8130</td>\n",
       "      <td>79.0</td>\n",
       "      <td>2020-07-27T00:00:00</td>\n",
       "      <td>37.77256499400005</td>\n",
       "      <td>-122.43665800499997</td>\n",
       "    </tr>\n",
       "  </tbody>\n",
       "</table>\n",
       "</div>"
      ],
      "text/plain": [
       "        Citation_Number Citation_Issued_DateTime   Violation  \\\n",
       "1019861      PD34613596      2019-08-13 14:05:00       V5202   \n",
       "899663        925928813      2019-12-04 10:23:00   TRC7.2.70   \n",
       "973061        909704062      2019-05-01 14:47:00  TRC7.2.23B   \n",
       "208804       1005658183      2019-03-07 13:56:00   TRC7.2.38   \n",
       "688599        911650331      2019-07-09 12:18:00   TRC7.2.22   \n",
       "\n",
       "        Violation_Description     Citation_Location Vehicle_Plate_State  \\\n",
       "1019861            NOPL/PRDSP  IRONWOOD AT CATALINA                  CA   \n",
       "899663             OBSTRCT TF        233 SERRANO DR                  CA   \n",
       "973061             MTR OUT DT           317 09TH ST                  CA   \n",
       "208804              PK STANDS          331 TOWNSEND                  CA   \n",
       "688599              STR CLEAN           962 PAGE ST                  CA   \n",
       "\n",
       "        Vehicle_Plate  Fine_Amount           Date_Added                 lat  \\\n",
       "1019861       4XNF490        121.0  2020-04-30T00:00:00   37.73629004500003   \n",
       "899663        8BDZ371        110.0  2020-07-27T00:00:00   37.71971298700004   \n",
       "973061        7MQS630         76.0  2020-04-30T00:00:00   38.24842055800008   \n",
       "208804        7NDE878        110.0  2022-04-11T00:00:00  37.776536270000065   \n",
       "688599        22T8130         79.0  2020-07-27T00:00:00   37.77256499400005   \n",
       "\n",
       "                         lon  \n",
       "1019861  -122.38011988899996  \n",
       "899663   -122.47937603999998  \n",
       "973061        -122.036426329  \n",
       "208804   -122.39560939499995  \n",
       "688599   -122.43665800499997  "
      ]
     },
     "execution_count": 8,
     "metadata": {},
     "output_type": "execute_result"
    }
   ],
   "source": [
    "# Check work\n",
    "df.head()"
   ]
  },
  {
   "attachments": {},
   "cell_type": "markdown",
   "metadata": {},
   "source": [
    "### Create map\n",
    "Subsets individual parking citations by time of day"
   ]
  },
  {
   "cell_type": "code",
   "execution_count": 11,
   "metadata": {},
   "outputs": [],
   "source": [
    "# Create folium map\n",
    "map = folium.Map(location = [37.7749, -122.4194], zoom_start = 12)"
   ]
  },
  {
   "cell_type": "code",
   "execution_count": null,
   "metadata": {},
   "outputs": [],
   "source": [
    "def popup_html(i, data):\n",
    "    \"\"\"Define function to parse HTML for folium popup. i is row of citation data (df)\"\"\"\n",
    "    \n",
    "    df = data\n",
    "    fine_amount = df['Fine_Amount'].iloc[i]\n",
    "    citation_location = df['Citation_Location'].iloc[i]\n",
    "    violation_desc = df['Violation_Description'].iloc[i]\n",
    "    datetime = df['Citation_Issued_DateTime'].iloc[i]\n",
    "\n",
    "\n",
    "    html = f\"\"\"<!DOCTYPE html>\n",
    "    <html>\n",
    "    <table style=\"height: 120px; width: 360px;\">\n",
    "    <tbody>\n",
    "    <tr>\n",
    "    <td>Citation Location</td>\n",
    "    <td>{citation_location}</td>\n",
    "    </tr>\n",
    "    <tr>\n",
    "    <td>Citation Amount</td>\n",
    "    <td>{fine_amount}</td>\n",
    "    </tr>\n",
    "    <tr>\n",
    "    <td>Violation Description</td>\n",
    "    <td>{violation_desc}</td>\n",
    "    </tr>\n",
    "    <tr>\n",
    "    <td>Datetime</td>\n",
    "    <td>{datetime}</td>\n",
    "    </tr>\n",
    "    </tbody>\n",
    "    </table>\n",
    "    </html>\n",
    "    \"\"\"\n",
    "    return html"
   ]
  },
  {
   "cell_type": "code",
   "execution_count": 10,
   "metadata": {},
   "outputs": [],
   "source": [
    "for i in range(len(df.index)):\n",
    "    lat = df.iloc[i, -2]\n",
    "    lon = df.iloc[i, -1]\n",
    "    coordinates = [float(lat), float(lon)]\n",
    "\n",
    "    # create html table for current data point; add as popup\n",
    "    popup_html = popup_html(i, df)\n",
    "    popup = folium.Popup(popup_html, parse_html = True)\n",
    "\n",
    "    # add parking citation as folium Circle\n",
    "    circle = folium.Circle(coordinates, color = \"red\", radius = 10, popup = popup)\n",
    "\n",
    "\n",
    "\n",
    "    "
   ]
  },
  {
   "cell_type": "code",
   "execution_count": 10,
   "metadata": {},
   "outputs": [
    {
     "data": {
      "text/html": [
       "<iframe srcdoc=\"&lt;!DOCTYPE html&gt;\n",
       "&lt;html&gt;\n",
       "&lt;head&gt;\n",
       "    \n",
       "    &lt;meta http-equiv=&quot;content-type&quot; content=&quot;text/html; charset=UTF-8&quot; /&gt;\n",
       "    \n",
       "        &lt;script&gt;\n",
       "            L_NO_TOUCH = false;\n",
       "            L_DISABLE_3D = false;\n",
       "        &lt;/script&gt;\n",
       "    \n",
       "    &lt;style&gt;html, body {width: 100%;height: 100%;margin: 0;padding: 0;}&lt;/style&gt;\n",
       "    &lt;style&gt;#map {position:absolute;top:0;bottom:0;right:0;left:0;}&lt;/style&gt;\n",
       "    &lt;script src=&quot;https://cdn.jsdelivr.net/npm/leaflet@1.9.3/dist/leaflet.js&quot;&gt;&lt;/script&gt;\n",
       "    &lt;script src=&quot;https://code.jquery.com/jquery-1.12.4.min.js&quot;&gt;&lt;/script&gt;\n",
       "    &lt;script src=&quot;https://cdn.jsdelivr.net/npm/bootstrap@5.2.2/dist/js/bootstrap.bundle.min.js&quot;&gt;&lt;/script&gt;\n",
       "    &lt;script src=&quot;https://cdnjs.cloudflare.com/ajax/libs/Leaflet.awesome-markers/2.0.2/leaflet.awesome-markers.js&quot;&gt;&lt;/script&gt;\n",
       "    &lt;link rel=&quot;stylesheet&quot; href=&quot;https://cdn.jsdelivr.net/npm/leaflet@1.9.3/dist/leaflet.css&quot;/&gt;\n",
       "    &lt;link rel=&quot;stylesheet&quot; href=&quot;https://cdn.jsdelivr.net/npm/bootstrap@5.2.2/dist/css/bootstrap.min.css&quot;/&gt;\n",
       "    &lt;link rel=&quot;stylesheet&quot; href=&quot;https://netdna.bootstrapcdn.com/bootstrap/3.0.0/css/bootstrap.min.css&quot;/&gt;\n",
       "    &lt;link rel=&quot;stylesheet&quot; href=&quot;https://cdn.jsdelivr.net/npm/@fortawesome/fontawesome-free@6.2.0/css/all.min.css&quot;/&gt;\n",
       "    &lt;link rel=&quot;stylesheet&quot; href=&quot;https://cdnjs.cloudflare.com/ajax/libs/Leaflet.awesome-markers/2.0.2/leaflet.awesome-markers.css&quot;/&gt;\n",
       "    &lt;link rel=&quot;stylesheet&quot; href=&quot;https://cdn.jsdelivr.net/gh/python-visualization/folium/folium/templates/leaflet.awesome.rotate.min.css&quot;/&gt;\n",
       "    \n",
       "            &lt;meta name=&quot;viewport&quot; content=&quot;width=device-width,\n",
       "                initial-scale=1.0, maximum-scale=1.0, user-scalable=no&quot; /&gt;\n",
       "            &lt;style&gt;\n",
       "                #map_e1ebf30f2c9e0ec9e576cfb718a01e58 {\n",
       "                    position: relative;\n",
       "                    width: 100.0%;\n",
       "                    height: 100.0%;\n",
       "                    left: 0.0%;\n",
       "                    top: 0.0%;\n",
       "                }\n",
       "                .leaflet-container { font-size: 1rem; }\n",
       "            &lt;/style&gt;\n",
       "        \n",
       "&lt;/head&gt;\n",
       "&lt;body&gt;\n",
       "    \n",
       "    \n",
       "            &lt;div class=&quot;folium-map&quot; id=&quot;map_e1ebf30f2c9e0ec9e576cfb718a01e58&quot; &gt;&lt;/div&gt;\n",
       "        \n",
       "&lt;/body&gt;\n",
       "&lt;script&gt;\n",
       "    \n",
       "    \n",
       "            var map_e1ebf30f2c9e0ec9e576cfb718a01e58 = L.map(\n",
       "                &quot;map_e1ebf30f2c9e0ec9e576cfb718a01e58&quot;,\n",
       "                {\n",
       "                    center: [37.7749, -122.4194],\n",
       "                    crs: L.CRS.EPSG3857,\n",
       "                    zoom: 12,\n",
       "                    zoomControl: true,\n",
       "                    preferCanvas: false,\n",
       "                }\n",
       "            );\n",
       "\n",
       "            \n",
       "\n",
       "        \n",
       "    \n",
       "            var tile_layer_0ba7db7151620d8c97f88d44ce4c91a9 = L.tileLayer(\n",
       "                &quot;https://{s}.tile.openstreetmap.org/{z}/{x}/{y}.png&quot;,\n",
       "                {&quot;attribution&quot;: &quot;Data by \\u0026copy; \\u003ca target=\\&quot;_blank\\&quot; href=\\&quot;http://openstreetmap.org\\&quot;\\u003eOpenStreetMap\\u003c/a\\u003e, under \\u003ca target=\\&quot;_blank\\&quot; href=\\&quot;http://www.openstreetmap.org/copyright\\&quot;\\u003eODbL\\u003c/a\\u003e.&quot;, &quot;detectRetina&quot;: false, &quot;maxNativeZoom&quot;: 18, &quot;maxZoom&quot;: 18, &quot;minZoom&quot;: 0, &quot;noWrap&quot;: false, &quot;opacity&quot;: 1, &quot;subdomains&quot;: &quot;abc&quot;, &quot;tms&quot;: false}\n",
       "            ).addTo(map_e1ebf30f2c9e0ec9e576cfb718a01e58);\n",
       "        \n",
       "&lt;/script&gt;\n",
       "&lt;/html&gt;\" width=\"900\" height=\"400\"style=\"border:none !important;\" \"allowfullscreen\" \"webkitallowfullscreen\" \"mozallowfullscreen\"></iframe>"
      ],
      "text/plain": [
       "<branca.element.Figure at 0x151f9cd7370>"
      ]
     },
     "execution_count": 10,
     "metadata": {},
     "output_type": "execute_result"
    }
   ],
   "source": [
    "fig = folium.Figure(width = 900, height = 400)\n",
    "fig.add_child(map)"
   ]
  }
 ],
 "metadata": {
  "kernelspec": {
   "display_name": "Python 3",
   "language": "python",
   "name": "python3"
  },
  "language_info": {
   "codemirror_mode": {
    "name": "ipython",
    "version": 3
   },
   "file_extension": ".py",
   "mimetype": "text/x-python",
   "name": "python",
   "nbconvert_exporter": "python",
   "pygments_lexer": "ipython3",
   "version": "3.10.5"
  },
  "orig_nbformat": 4,
  "vscode": {
   "interpreter": {
    "hash": "58f3cd189385007b3f93af300bd4860cf4c6692376eacb31024ec2939d6d0c1a"
   }
  }
 },
 "nbformat": 4,
 "nbformat_minor": 2
}
